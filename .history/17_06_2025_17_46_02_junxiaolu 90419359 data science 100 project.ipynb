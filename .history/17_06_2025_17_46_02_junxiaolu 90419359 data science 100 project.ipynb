{
 "cells": [
  {
   "cell_type": "markdown",
   "id": "4937ae9a-8532-404e-9ac2-6ee9b49b578c",
   "metadata": {},
   "source": [
    "# Data Science 100 Project"
   ]
  },
  {
   "cell_type": "markdown",
   "id": "8a777152-5ad6-401c-9b04-53c1218076c5",
   "metadata": {},
   "source": [
    "### Background : \n",
    "Video games are a popular way for people to play and connect with others. Game makers and researchers often use newsletters to share updates, events, or news with players. But not every player signs up for these newsletters. If we can find out which players are more likely to subscribe, we can better understand what kinds of players are more interested and involved.\n",
    "\n",
    "In this project, we look at real data from a Minecraft research server run by a UBC team. The data includes player information and how they behave in the game. We want to find out which player features and behaviors are most useful in predicting whether someone will subscribe to the newsletter. This can help game teams and researchers plan better ways to reach the right players.\n",
    "### link to github\n",
    "https://github.com/90419359/data-science-project\n",
    "### Questin 1 (the selection of the project):\n",
    " What player characteristics and behaviours are most predictive of subscribing to a game-related newsletter, and how do these features differ between various player types?"
   ]
  },
  {
   "cell_type": "code",
   "execution_count": null,
   "id": "c3b3cd1b-04ea-4343-b848-19d8f6d4c41d",
   "metadata": {},
   "outputs": [],
   "source": []
  }
 ],
 "metadata": {
  "kernelspec": {
   "display_name": "R",
   "language": "R",
   "name": "ir"
  },
  "language_info": {
   "codemirror_mode": "r",
   "file_extension": ".r",
   "mimetype": "text/x-r-source",
   "name": "R",
   "pygments_lexer": "r",
   "version": "4.3.3"
  }
 },
 "nbformat": 4,
 "nbformat_minor": 5
}
