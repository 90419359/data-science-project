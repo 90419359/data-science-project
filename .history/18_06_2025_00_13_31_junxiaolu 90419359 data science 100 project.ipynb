{
 "cells": [
  {
   "cell_type": "markdown",
   "id": "4937ae9a-8532-404e-9ac2-6ee9b49b578c",
   "metadata": {},
   "source": [
    "# Data Science 100 Project"
   ]
  },
  {
   "cell_type": "markdown",
   "id": "8a777152-5ad6-401c-9b04-53c1218076c5",
   "metadata": {},
   "source": [
    "## introduction:\n",
    "### Background: \n",
    "Video games are a popular way for people to play and connect with others. Game makers and researchers often use newsletters to share updates, events, or news with players. But not every player signs up for these newsletters. If we can find out which players are more likely to subscribe, we can better understand what kinds of players are more interested and involved.\n",
    "\n",
    "In this project, we look at real data from a Minecraft research server. The data includes player information and how they behave in the game. We want to find out which player features and behaviors are most useful in predicting whether someone will subscribe to the newsletter. This can help game teams and researchers plan better ways to reach the right players.\n",
    "### link to github:\n",
    "https://github.com/90419359/data-science-project\n",
    "### Questin 1 (the selection of the project):\n",
    "Can a player’s gender predict whether they will subscribe to a game-related newsletter, and does this pattern differ across experience levels?\n",
    "\n",
    "This project explores whether gender affects a player’s likelihood to subscribe. The response variable is subscribe (TRUE or FALSE), and the explanatory variable is gender. Using data from players.csv, we will compare subscription rates across different genders.The goal is to build a simple model to see if gender helps predict subscription behavior.\n",
    "### Data Description:\n",
    "## 1.players.csv\n",
    "Each row in this dataset represents an individual player. The columns include:\n",
    "\t\n",
    "    experience: Self-reported gaming experience, categorized as Beginner, Amateur, Regular, Veteran, or Pro.\n",
    "\t\n",
    "    subscribe: Indicating whether the player subscribed to the server’s content or notifications.\n",
    "\t\n",
    "    hashedEmail: A pseudonymized identifier for each player.\n",
    "\t\n",
    "    played_hours: Total number of hours the player has played on the server.\n",
    "\t\n",
    "    name: The first name of the player.\n",
    "\t\n",
    "    gender: Gender identity (Male, Female, Non-binary).\n",
    "\t\n",
    "    age: The player’s self-reported age (integer).\n",
    "\n",
    "## 2.sessions.csv\n",
    "Each row represents one gameplay session and includes:\n",
    "\t\n",
    "    hashedEmail: useless in our project\n",
    "\t\n",
    "    start_time: The human-readable start time of the session.\n",
    "\t\n",
    "    end_time: The human-readable end time of the session.\n",
    "\t\n",
    "    original_start_time: Start time in Unix timestamp format.\n",
    "\t\n",
    "    original_end_time: End time in Unix timestamp format.\n",
    "\n",
    "These fields allow for the analysis of session length, activity patterns, and player engagement over time."
   ]
  },
  {
   "cell_type": "code",
   "execution_count": null,
   "id": "e1666bd6-6552-41c1-b7e3-020e052b5e8c",
   "metadata": {},
   "outputs": [],
   "source": [
    "library(tidyverse)"
   ]
  },
  {
   "cell_type": "code",
   "execution_count": null,
   "id": "67a903c2-0802-4314-9366-95933803f6ce",
   "metadata": {},
   "outputs": [],
   "source": [
    "# load the data\n",
    "\n",
    "#save the website\n",
    "player_url <-\"https://raw.githubusercontent.com/90419359/data-science-project/refs/heads/main/players.csv\"\n",
    "session_url <- \"https://raw.githubusercontent.com/90419359/data-science-project/refs/heads/main/sessions.csv\"\n",
    "#download the file\n",
    "download.file(player_url,destfile =\"players.csv\")\n",
    "download.file(session_url,destfile =\"sessions.csv\")\n",
    "#read the file\n",
    "Player_data <- read_csv(\"players.csv\")\n",
    "Sessions_data <- read_csv(\"sessions.csv\")"
   ]
  },
  {
   "cell_type": "code",
   "execution_count": null,
   "id": "fe13c9a5-b98f-4ef6-a151-5b5537335f6e",
   "metadata": {},
   "outputs": [],
   "source": [
    "Player_data"
   ]
  },
  {
   "cell_type": "code",
   "execution_count": null,
   "id": "997df7b8-651c-4cc0-8c3a-f3a953722c25",
   "metadata": {},
   "outputs": [],
   "source": [
    "Sessions_data"
   ]
  },
  {
   "cell_type": "code",
   "execution_count": null,
   "id": "c89c63c2-69e2-4629-9406-6a663f68be8b",
   "metadata": {},
   "outputs": [],
   "source": [
    "# make the data more clean and perform summaries"
   ]
  },
  {
   "cell_type": "code",
   "execution_count": null,
   "id": "6e6f9e8a-388d-44e5-a777-e93d390cfb6f",
   "metadata": {},
   "outputs": [],
   "source": [
    "Player_data <- Player_data |>\n",
    "  mutate(gender_simple = ifelse(\n",
    "    gender == \"Male\", \"Male\",\n",
    "    ifelse(gender == \"Female\", \"Female\", \"Other\")\n",
    "  ))\n",
    "Player_data"
   ]
  },
  {
   "cell_type": "code",
   "execution_count": null,
   "id": "569b6710-c9e9-4da2-9a82-c649a2da7d5a",
   "metadata": {},
   "outputs": [],
   "source": [
    "gender_subscribe <- Player_data |>\n",
    "  group_by(gender_simple, subscribe) |>\n",
    "  summarize(count = n())\n",
    "gender_subscribe"
   ]
  },
  {
   "cell_type": "code",
   "execution_count": null,
   "id": "448fd877-88f0-419c-bf99-b9471eeda9c6",
   "metadata": {},
   "outputs": [],
   "source": [
    "# creates a visualization and explain the relationship between them\n",
    "gender_subscribe_female_bar <-  gender_subscribe |> \n",
    "     filter(gender_simple == \"Female\") |>\n",
    "     ggplot(aes(x=subscribe,y=count)) +\n",
    "     geom_bar(stat=\"identity\")+\n",
    "     labs(x=\"Subscription Status\",y=\"Number Of Female Players\",title=\"Female User Subscription Overview\") \n",
    "gender_subscribe_female_bar"
   ]
  },
  {
   "cell_type": "code",
   "execution_count": null,
   "id": "8e535359-fd9d-4fe0-a38a-ef4664691300",
   "metadata": {},
   "outputs": [],
   "source": [
    "gender_subscribe_male_bar <-  gender_subscribe |> \n",
    "     filter(gender_simple == \"Male\") |>\n",
    "     ggplot(aes(x=subscribe,y=count)) +\n",
    "     geom_bar(stat=\"identity\")+\n",
    "     labs(x=\"Subscription Status\",y=\"Number Of Male Players\",title=\"Male User Subscription Overview\") \n",
    "gender_subscribe_male_bar"
   ]
  },
  {
   "cell_type": "code",
   "execution_count": null,
   "id": "46fe3f27-8998-48a2-8f56-af393119d561",
   "metadata": {},
   "outputs": [],
   "source": [
    "gender_subscribe_genfer_minorities_bar <-  gender_subscribe |> \n",
    "     filter(gender_simple == \"Other\") |>\n",
    "     ggplot(aes(x=subscribe,y=count)) +\n",
    "     geom_bar(stat=\"identity\")+\n",
    "     labs(x=\"Subscription Status\",y=\"Number Of Minorities Players\",title=\"Minorities User Subscription Overview\") \n",
    "gender_subscribe_genfer_minorities_bar"
   ]
  },
  {
   "cell_type": "markdown",
   "id": "d6e59d44-2a0d-474e-bbf3-65f5bdab5c65",
   "metadata": {},
   "source": [
    "\n"
   ]
  },
  {
   "cell_type": "code",
   "execution_count": null,
   "id": "081a35c3-d514-4a3e-8752-9c61df6206be",
   "metadata": {},
   "outputs": [],
   "source": []
  }
 ],
 "metadata": {
  "kernelspec": {
   "display_name": "R",
   "language": "R",
   "name": "ir"
  },
  "language_info": {
   "codemirror_mode": "r",
   "file_extension": ".r",
   "mimetype": "text/x-r-source",
   "name": "R",
   "pygments_lexer": "r",
   "version": "4.3.3"
  }
 },
 "nbformat": 4,
 "nbformat_minor": 5
}
