{
 "cells": [
  {
   "cell_type": "markdown",
   "id": "4937ae9a-8532-404e-9ac2-6ee9b49b578c",
   "metadata": {},
   "source": [
    "# Data Science 100 Project"
   ]
  },
  {
   "cell_type": "markdown",
   "id": "8a777152-5ad6-401c-9b04-53c1218076c5",
   "metadata": {},
   "source": [
    "## introduction:\n",
    "### Background: \n",
    "Video games are a popular way for people to play and connect with others. Game makers and researchers often use newsletters to share updates, events, or news with players. But not every player signs up for these newsletters. If we can find out which players are more likely to subscribe, we can better understand what kinds of players are more interested and involved.\n",
    "\n",
    "In this project, we look at real data from a Minecraft research server. The data includes player information and how they behave in the game. We want to find out which player features and behaviors are most useful in predicting whether someone will subscribe to the newsletter. This can help game teams and researchers plan better ways to reach the right players.\n",
    "### link to github:\n",
    "https://github.com/90419359/data-science-project\n",
    "### Questin 1 (the selection of the project):\n",
    "This project explores whether a player’s gender can predict their likelihood of subscribing to a game-related newsletter, and whether this pattern differs across experience levels. Using data from players.csv, we focus on two variables—gender and experience—to compare subscription behavior among different player groups.\n",
    "\n",
    "The response variable is subscribe (TRUE or FALSE), and the explanatory variable is gender, with experience level used as a secondary grouping variable. The goal is to visualize and describe any patterns that may suggest a relationship between these characteristics and subscription behavior.\n",
    "### Data Description:\n",
    "## 1.players.csv\n",
    "Each row in this dataset represents an individual player. The columns include:\n",
    "\t\n",
    "    experience: Self-reported gaming experience, categorized as Beginner, Amateur, Regular, Veteran, or Pro.\n",
    "\t\n",
    "    subscribe: Indicating whether the player subscribed to the server’s content or notifications.\n",
    "\t\n",
    "    hashedEmail: A pseudonymized identifier for each player.\n",
    "\t\n",
    "    played_hours: Total number of hours the player has played on the server.\n",
    "\t\n",
    "    name: The first name of the player.\n",
    "\t\n",
    "    gender: Gender identity (Male, Female, Non-binary).\n",
    "\t\n",
    "    age: The player’s self-reported age (integer).\n",
    "\n",
    "## 2.sessions.csv\n",
    "Each row represents one gameplay session and includes:\n",
    "\t\n",
    "    hashedEmail: useless in our project\n",
    "\t\n",
    "    start_time: The human-readable start time of the session.\n",
    "\t\n",
    "    end_time: The human-readable end time of the session.\n",
    "\t\n",
    "    original_start_time: Start time in Unix timestamp format.\n",
    "\t\n",
    "    original_end_time: End time in Unix timestamp format.\n",
    "\n",
    "These fields allow for the analysis of session length, activity patterns, and player engagement over time."
   ]
  },
  {
   "cell_type": "code",
   "execution_count": null,
   "id": "e1666bd6-6552-41c1-b7e3-020e052b5e8c",
   "metadata": {},
   "outputs": [],
   "source": [
    "library(tidyverse)"
   ]
  },
  {
   "cell_type": "code",
   "execution_count": null,
   "id": "67a903c2-0802-4314-9366-95933803f6ce",
   "metadata": {},
   "outputs": [],
   "source": [
    "# load the data\n",
    "\n",
    "#save the website\n",
    "player_url <-\"https://raw.githubusercontent.com/90419359/data-science-project/refs/heads/main/players.csv\"\n",
    "session_url <- \"https://raw.githubusercontent.com/90419359/data-science-project/refs/heads/main/sessions.csv\"\n",
    "#download the file\n",
    "download.file(player_url,destfile =\"players.csv\")\n",
    "download.file(session_url,destfile =\"sessions.csv\")\n",
    "#read the file\n",
    "Player_data <- read_csv(\"players.csv\")\n",
    "Sessions_data <- read_csv(\"sessions.csv\")"
   ]
  },
  {
   "cell_type": "code",
   "execution_count": null,
   "id": "fe13c9a5-b98f-4ef6-a151-5b5537335f6e",
   "metadata": {},
   "outputs": [],
   "source": [
    "Player_data"
   ]
  },
  {
   "cell_type": "code",
   "execution_count": null,
   "id": "997df7b8-651c-4cc0-8c3a-f3a953722c25",
   "metadata": {},
   "outputs": [],
   "source": [
    "Sessions_data"
   ]
  },
  {
   "cell_type": "code",
   "execution_count": null,
   "id": "c89c63c2-69e2-4629-9406-6a663f68be8b",
   "metadata": {},
   "outputs": [],
   "source": [
    "# make the data more clean and perform summaries"
   ]
  },
  {
   "cell_type": "code",
   "execution_count": null,
   "id": "6e6f9e8a-388d-44e5-a777-e93d390cfb6f",
   "metadata": {},
   "outputs": [],
   "source": [
    "Player_data <- Player_data |>\n",
    "  mutate(gender_simple = ifelse(\n",
    "    gender == \"Male\", \"Male\",\n",
    "    ifelse(gender == \"Female\", \"Female\", \"Other\")\n",
    "  ))\n",
    "Player_data"
   ]
  },
  {
   "cell_type": "code",
   "execution_count": null,
   "id": "569b6710-c9e9-4da2-9a82-c649a2da7d5a",
   "metadata": {},
   "outputs": [],
   "source": [
    "gender_subscribe <- Player_data |>\n",
    "  group_by(gender_simple, subscribe) |>\n",
    "  summarize(count = n())\n",
    "gender_subscribe"
   ]
  },
  {
   "cell_type": "code",
   "execution_count": null,
   "id": "448fd877-88f0-419c-bf99-b9471eeda9c6",
   "metadata": {},
   "outputs": [],
   "source": [
    "# creates a visualization and explain the relationship between them\n",
    "gender_subscribe_female_bar <-  gender_subscribe |> \n",
    "     filter(gender_simple == \"Female\") |>\n",
    "     ggplot(aes(x=subscribe,y=count)) +\n",
    "     geom_bar(stat=\"identity\")+\n",
    "     labs(x=\"Subscription Status\",y=\"Number Of Female Players\",title=\"Female User Subscription Overview\") \n",
    "gender_subscribe_female_bar"
   ]
  },
  {
   "cell_type": "code",
   "execution_count": null,
   "id": "8e535359-fd9d-4fe0-a38a-ef4664691300",
   "metadata": {},
   "outputs": [],
   "source": [
    "gender_subscribe_male_bar <-  gender_subscribe |> \n",
    "     filter(gender_simple == \"Male\") |>\n",
    "     ggplot(aes(x=subscribe,y=count)) +\n",
    "     geom_bar(stat=\"identity\")+\n",
    "     labs(x=\"Subscription Status\",y=\"Number Of Male Players\",title=\"Male User Subscription Overview\") \n",
    "gender_subscribe_male_bar"
   ]
  },
  {
   "cell_type": "code",
   "execution_count": null,
   "id": "46fe3f27-8998-48a2-8f56-af393119d561",
   "metadata": {},
   "outputs": [],
   "source": [
    "gender_subscribe_gender_minorities_bar <-  gender_subscribe |> \n",
    "     filter(gender_simple == \"Other\") |>\n",
    "     ggplot(aes(x=subscribe,y=count)) +\n",
    "     geom_bar(stat=\"identity\")+\n",
    "     labs(x=\"Subscription Status\",y=\"Number Of Minorities Players\",title=\"Minorities User Subscription Overview\") \n",
    "gender_subscribe_gender_minorities_bar"
   ]
  },
  {
   "cell_type": "markdown",
   "id": "d6e59d44-2a0d-474e-bbf3-65f5bdab5c65",
   "metadata": {},
   "source": [
    "\n"
   ]
  },
  {
   "cell_type": "code",
   "execution_count": null,
   "id": "081a35c3-d514-4a3e-8752-9c61df6206be",
   "metadata": {},
   "outputs": [],
   "source": [
    "experience_subscribe <- Player_data |>\n",
    "  group_by(experience, subscribe) |>\n",
    "  summarize(count = n())\n",
    "experience_subscribe "
   ]
  },
  {
   "cell_type": "code",
   "execution_count": null,
   "id": "ac4c8e3f-d5af-4b38-a9ef-ecb09c249fc5",
   "metadata": {},
   "outputs": [],
   "source": [
    "experience_subscribe_pro_bar <- experience_subscribe |> \n",
    "  filter(experience == \"Pro\") |>\n",
    "  ggplot(aes(x = subscribe, y = count)) +\n",
    "  geom_bar(stat = \"identity\") +\n",
    "  labs(x = \"Subscription Status\",\n",
    "       y = \"Number of Pro Players\",\n",
    "       title = \"Pro User Subscription Overview\")\n",
    "\n",
    "experience_subscribe_pro_bar"
   ]
  },
  {
   "cell_type": "code",
   "execution_count": null,
   "id": "eb336bfb-7897-48ca-8f6d-6969c43e5460",
   "metadata": {},
   "outputs": [],
   "source": [
    "experience_subscribe_beginner_bar <- experience_subscribe |>\n",
    "  filter(experience == \"Beginner\") |>\n",
    "  ggplot(aes(x = subscribe, y = count)) +\n",
    "  geom_bar(stat = \"identity\", fill = \"light blue\", color = \"black\") +\n",
    "  labs(x = \"Subscription Status\",\n",
    "       y = \"Number of Beginner Players\",\n",
    "       title = \"Beginner User Subscription Overview\")\n",
    "\n",
    "experience_subscribe_beginner_bar"
   ]
  },
  {
   "cell_type": "code",
   "execution_count": null,
   "id": "d4a251b2-1113-4f4d-8c96-3cf21aac695f",
   "metadata": {},
   "outputs": [],
   "source": [
    "experience_subscribe_regular_bar <- experience_subscribe |>\n",
    "  filter(experience == \"Regular\") |>\n",
    "  ggplot(aes(x = subscribe, y = count)) +\n",
    "  geom_bar(stat = \"identity\", fill = \"orange\", color = \"black\") +\n",
    "  labs(\n",
    "    x = \"Subscription Status\",\n",
    "    y = \"Number of Regular Players\",\n",
    "    title = \"Regular User Subscription Overview\"\n",
    "  )\n",
    "\n",
    "experience_subscribe_regular_bar"
   ]
  },
  {
   "cell_type": "code",
   "execution_count": null,
   "id": "221e1987-6a13-4e4a-8f5c-c53c1c5de1fc",
   "metadata": {},
   "outputs": [],
   "source": [
    "experience_subscribe_amateur_bar <- experience_subscribe |>\n",
    "  filter(experience == \"Amateur\") |>\n",
    "  ggplot(aes(x = subscribe, y = count)) +\n",
    "  geom_bar(stat = \"identity\", fill = \"light green\", color = \"black\") +\n",
    "  labs(x = \"Subscription Status\",\n",
    "       y = \"Number of Amateur Players\",\n",
    "       title = \"Amateur User Subscription Overview\")\n",
    "\n",
    "experience_subscribe_amateur_bar"
   ]
  },
  {
   "cell_type": "code",
   "execution_count": null,
   "id": "a48dd895-b3fc-44ed-8308-a9146332fb4f",
   "metadata": {},
   "outputs": [],
   "source": [
    "experience_subscribe_veteran_bar <- experience_subscribe |>\n",
    "  filter(experience == \"Veteran\") |>\n",
    "  ggplot(aes(x = subscribe, y = count)) +\n",
    "  geom_bar(stat = \"identity\", fill = \"light yellow\", color = \"black\") +\n",
    "  labs(x = \"Subscription Status\",\n",
    "       y = \"Number of Veteran Players\",\n",
    "       title = \"Veteran User Subscription Overview\")\n",
    "\n",
    "experience_subscribe_veteran_bar"
   ]
  },
  {
   "cell_type": "code",
   "execution_count": null,
   "id": "7b625194-61a2-4a5c-a026-ccd9b2385d9a",
   "metadata": {},
   "outputs": [],
   "source": []
  },
  {
   "cell_type": "code",
   "execution_count": null,
   "id": "30f9763d-569e-4919-b12c-842d8386f988",
   "metadata": {},
   "outputs": [],
   "source": []
  },
  {
   "cell_type": "code",
   "execution_count": null,
   "id": "45422d6b-6cd2-4095-b176-b5546a8dd6b3",
   "metadata": {},
   "outputs": [],
   "source": []
  }
 ],
 "metadata": {
  "kernelspec": {
   "display_name": "R",
   "language": "R",
   "name": "ir"
  },
  "language_info": {
   "codemirror_mode": "r",
   "file_extension": ".r",
   "mimetype": "text/x-r-source",
   "name": "R",
   "pygments_lexer": "r",
   "version": "4.3.3"
  }
 },
 "nbformat": 4,
 "nbformat_minor": 5
}
