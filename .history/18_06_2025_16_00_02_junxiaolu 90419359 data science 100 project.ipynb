{
 "cells": [
  {
   "cell_type": "markdown",
   "id": "4937ae9a-8532-404e-9ac2-6ee9b49b578c",
   "metadata": {},
   "source": [
    "# Data Science 100 Project"
   ]
  },
  {
   "cell_type": "markdown",
   "id": "8a777152-5ad6-401c-9b04-53c1218076c5",
   "metadata": {},
   "source": [
    "## introduction:\n",
    "### Background: \n",
    "Video games are a popular way for people to play and connect with others. Game makers and researchers often use newsletters to share updates, events, or news with players. But not every player signs up for these newsletters. If we can find out which players are more likely to subscribe, we can better understand what kinds of players are more interested and involved.\n",
    "\n",
    "In this project, we look at real data from a Minecraft research server. The data includes player information and how they behave in the game. We want to find out which player features and behaviors are most useful in predicting whether someone will subscribe to the newsletter. This can help game teams and researchers plan better ways to reach the right players.\n",
    "### link to github:\n",
    "https://github.com/90419359/data-science-project\n",
    "### Questin 1 (the selection of the project):\n",
    "This project explores whether a player’s gender can predict their likelihood of subscribing to a game-related newsletter, and whether this pattern differs across experience levels. Using data from players.csv, we focus on two variables—gender and experience—to compare subscription behavior among different player groups.\n",
    "\n",
    "The response variable is subscribe (TRUE or FALSE), and the explanatory variable is gender, with experience level used as a secondary grouping variable. The goal is to visualize and describe any patterns that may suggest a relationship between these characteristics and subscription behavior.\n",
    "### Data Description:\n",
    "## 1.players.csv\n",
    "Each row in this dataset represents an individual player. The columns include:\n",
    "\t\n",
    "    experience: Self-reported gaming experience, categorized as Beginner, Amateur, Regular, Veteran, or Pro.\n",
    "\t\n",
    "    subscribe: Indicating whether the player subscribed to the server’s content or notifications.\n",
    "\t\n",
    "    hashedEmail: A pseudonymized identifier for each player.\n",
    "\t\n",
    "    played_hours: Total number of hours the player has played on the server.\n",
    "\t\n",
    "    name: The first name of the player.\n",
    "\t\n",
    "    gender: Gender identity (Male, Female, Non-binary).\n",
    "\t\n",
    "    age: The player’s self-reported age (integer).\n",
    "\n",
    "## 2.sessions.csv\n",
    "Each row represents one gameplay session and includes:\n",
    "\t\n",
    "    hashedEmail: useless in our project\n",
    "\t\n",
    "    start_time: The human-readable start time of the session.\n",
    "\t\n",
    "    end_time: The human-readable end time of the session.\n",
    "\t\n",
    "    original_start_time: Start time in Unix timestamp format.\n",
    "\t\n",
    "    original_end_time: End time in Unix timestamp format.\n",
    "\n",
    "These fields allow for the analysis of session length, activity patterns, and player engagement over time."
   ]
  },
  {
   "cell_type": "code",
   "execution_count": null,
   "id": "e1666bd6-6552-41c1-b7e3-020e052b5e8c",
   "metadata": {},
   "outputs": [],
   "source": [
    "library(tidyverse)"
   ]
  },
  {
   "cell_type": "code",
   "execution_count": null,
   "id": "67a903c2-0802-4314-9366-95933803f6ce",
   "metadata": {},
   "outputs": [],
   "source": [
    "# load the data\n",
    "\n",
    "#save the website\n",
    "player_url <-\"https://raw.githubusercontent.com/90419359/data-science-project/refs/heads/main/players.csv\"\n",
    "session_url <- \"https://raw.githubusercontent.com/90419359/data-science-project/refs/heads/main/sessions.csv\"\n",
    "#download the file\n",
    "download.file(player_url,destfile =\"players.csv\")\n",
    "download.file(session_url,destfile =\"sessions.csv\")\n",
    "#read the file\n",
    "Player_data <- read_csv(\"players.csv\")\n",
    "Sessions_data <- read_csv(\"sessions.csv\")"
   ]
  },
  {
   "cell_type": "code",
   "execution_count": null,
   "id": "fe13c9a5-b98f-4ef6-a151-5b5537335f6e",
   "metadata": {},
   "outputs": [],
   "source": [
    "Player_data"
   ]
  },
  {
   "cell_type": "code",
   "execution_count": null,
   "id": "997df7b8-651c-4cc0-8c3a-f3a953722c25",
   "metadata": {},
   "outputs": [],
   "source": [
    "Sessions_data"
   ]
  },
  {
   "cell_type": "code",
   "execution_count": null,
   "id": "c89c63c2-69e2-4629-9406-6a663f68be8b",
   "metadata": {},
   "outputs": [],
   "source": [
    "# make the data more clean and perform summaries"
   ]
  },
  {
   "cell_type": "code",
   "execution_count": null,
   "id": "6e6f9e8a-388d-44e5-a777-e93d390cfb6f",
   "metadata": {},
   "outputs": [],
   "source": [
    "Player_data <- Player_data |>\n",
    "  mutate(gender_simple = ifelse(\n",
    "    gender == \"Male\", \"Male\",\n",
    "    ifelse(gender == \"Female\", \"Female\", \"Other\")\n",
    "  ))\n",
    "Player_data"
   ]
  },
  {
   "cell_type": "code",
   "execution_count": null,
   "id": "569b6710-c9e9-4da2-9a82-c649a2da7d5a",
   "metadata": {},
   "outputs": [],
   "source": [
    "gender_subscribe <- Player_data |>\n",
    "  group_by(gender_simple, subscribe) |>\n",
    "  summarize(count = n())\n",
    "gender_subscribe"
   ]
  },
  {
   "cell_type": "code",
   "execution_count": null,
   "id": "448fd877-88f0-419c-bf99-b9471eeda9c6",
   "metadata": {},
   "outputs": [],
   "source": [
    "# creates a visualization and explain the relationship between them\n",
    "gender_subscribe_female_bar <-  gender_subscribe |> \n",
    "     filter(gender_simple == \"Female\") |>\n",
    "     ggplot(aes(x=subscribe,y=count)) +\n",
    "     geom_bar(stat=\"identity\")+\n",
    "     labs(x=\"Subscription Status\",y=\"Number Of Female Players\",title=\"Female User Subscription Overview\") \n",
    "gender_subscribe_female_bar"
   ]
  },
  {
   "cell_type": "code",
   "execution_count": null,
   "id": "8e535359-fd9d-4fe0-a38a-ef4664691300",
   "metadata": {},
   "outputs": [],
   "source": [
    "gender_subscribe_male_bar <-  gender_subscribe |> \n",
    "     filter(gender_simple == \"Male\") |>\n",
    "     ggplot(aes(x=subscribe,y=count)) +\n",
    "     geom_bar(stat=\"identity\")+\n",
    "     labs(x=\"Subscription Status\",y=\"Number Of Male Players\",title=\"Male User Subscription Overview\") \n",
    "gender_subscribe_male_bar"
   ]
  },
  {
   "cell_type": "code",
   "execution_count": null,
   "id": "46fe3f27-8998-48a2-8f56-af393119d561",
   "metadata": {},
   "outputs": [],
   "source": [
    "gender_subscribe_gender_minorities_bar <-  gender_subscribe |> \n",
    "     filter(gender_simple == \"Other\") |>\n",
    "     ggplot(aes(x=subscribe,y=count)) +\n",
    "     geom_bar(stat=\"identity\")+\n",
    "     labs(x=\"Subscription Status\",y=\"Number Of Minorities Players\",title=\"Minorities User Subscription Overview\") \n",
    "gender_subscribe_gender_minorities_bar"
   ]
  },
  {
   "cell_type": "markdown",
   "id": "d6e59d44-2a0d-474e-bbf3-65f5bdab5c65",
   "metadata": {},
   "source": [
    "\n"
   ]
  },
  {
   "cell_type": "code",
   "execution_count": null,
   "id": "081a35c3-d514-4a3e-8752-9c61df6206be",
   "metadata": {},
   "outputs": [],
   "source": [
    "experience_subscribe <- Player_data |>\n",
    "  group_by(experience, subscribe) |>\n",
    "  summarize(count = n())\n",
    "experience_subscribe "
   ]
  },
  {
   "cell_type": "code",
   "execution_count": null,
   "id": "ac4c8e3f-d5af-4b38-a9ef-ecb09c249fc5",
   "metadata": {},
   "outputs": [],
   "source": [
    "experience_subscribe_pro_bar <- experience_subscribe |> \n",
    "  filter(experience == \"Pro\") |>\n",
    "  ggplot(aes(x = subscribe, y = count)) +\n",
    "  geom_bar(stat = \"identity\",fill=\"purple\",color=\"black\") +\n",
    "  labs(x = \"Subscription Status\",\n",
    "       y = \"Number of Pro Players\",\n",
    "       title = \"Pro User Subscription Overview\")\n",
    "\n",
    "experience_subscribe_pro_bar"
   ]
  },
  {
   "cell_type": "code",
   "execution_count": null,
   "id": "eb336bfb-7897-48ca-8f6d-6969c43e5460",
   "metadata": {},
   "outputs": [],
   "source": [
    "experience_subscribe_beginner_bar <- experience_subscribe |>\n",
    "  filter(experience == \"Beginner\") |>\n",
    "  ggplot(aes(x = subscribe, y = count)) +\n",
    "  geom_bar(stat = \"identity\", fill = \"light blue\", color = \"black\") +\n",
    "  labs(x = \"Subscription Status\",\n",
    "       y = \"Number of Beginner Players\",\n",
    "       title = \"Beginner User Subscription Overview\")\n",
    "\n",
    "experience_subscribe_beginner_bar"
   ]
  },
  {
   "cell_type": "code",
   "execution_count": null,
   "id": "d4a251b2-1113-4f4d-8c96-3cf21aac695f",
   "metadata": {},
   "outputs": [],
   "source": [
    "experience_subscribe_regular_bar <- experience_subscribe |>\n",
    "  filter(experience == \"Regular\") |>\n",
    "  ggplot(aes(x = subscribe, y = count)) +\n",
    "  geom_bar(stat = \"identity\", fill = \"orange\", color = \"black\") +\n",
    "  labs(\n",
    "    x = \"Subscription Status\",\n",
    "    y = \"Number of Regular Players\",\n",
    "    title = \"Regular User Subscription Overview\"\n",
    "  )\n",
    "\n",
    "experience_subscribe_regular_bar"
   ]
  },
  {
   "cell_type": "code",
   "execution_count": null,
   "id": "221e1987-6a13-4e4a-8f5c-c53c1c5de1fc",
   "metadata": {},
   "outputs": [],
   "source": [
    "experience_subscribe_amateur_bar <- experience_subscribe |>\n",
    "  filter(experience == \"Amateur\") |>\n",
    "  ggplot(aes(x = subscribe, y = count)) +\n",
    "  geom_bar(stat = \"identity\", fill = \"light green\", color = \"black\") +\n",
    "  labs(x = \"Subscription Status\",\n",
    "       y = \"Number of Amateur Players\",\n",
    "       title = \"Amateur User Subscription Overview\")\n",
    "\n",
    "experience_subscribe_amateur_bar"
   ]
  },
  {
   "cell_type": "code",
   "execution_count": null,
   "id": "a48dd895-b3fc-44ed-8308-a9146332fb4f",
   "metadata": {},
   "outputs": [],
   "source": [
    "experience_subscribe_veteran_bar <- experience_subscribe |>\n",
    "  filter(experience == \"Veteran\") |>\n",
    "  ggplot(aes(x = subscribe, y = count)) +\n",
    "  geom_bar(stat = \"identity\", fill = \"light yellow\", color = \"black\") +\n",
    "  labs(x = \"Subscription Status\",\n",
    "       y = \"Number of Veteran Players\",\n",
    "       title = \"Veteran User Subscription Overview\")\n",
    "\n",
    "experience_subscribe_veteran_bar"
   ]
  },
  {
   "cell_type": "markdown",
   "id": "2d915ff3-b1a6-4945-8760-d48ddfe916bd",
   "metadata": {},
   "source": [
    "## Explain any insights you gain from these plots that are relevant to address your question:\n",
    "Image-Based Interpretation\n",
    "From the bar charts of both gender and experience level, we can observe general trends in subscription behavior. Across all genders—Male, Female, and Other—the “Subscribed” bar is consistently higher than the “Not Subscribed” bar. However, the visual difference between male and female players is relatively small, and no strong contrast can be observed without statistical modeling. Players identifying as “Other” also appear more likely to subscribe than not, but the smaller sample size makes it harder to draw firm conclusions. Therefore, gender may have some influence, but the pattern is not particularly strong based on visual evidence alone.\n",
    "\n",
    "In contrast, experience level shows a much clearer relationship. Beginner and Regular players have noticeably taller “Subscribed” bars, suggesting stronger interest in newsletter features. Amateur players show a moderate difference, while Pro and Veteran players are more evenly split. These visual differences across experience levels are more apparent and consistent.\n",
    "\n",
    "Overall, while both gender and experience level may relate to subscription behavior, the player’s experience level shows stronger and clearer visual differences, suggesting it may be the more influential factor in this analysis."
   ]
  },
  {
   "cell_type": "markdown",
   "id": "7b8bd0ec-d4d6-498e-9636-b2fd798c90f1",
   "metadata": {},
   "source": [
    "## data analysis:\n",
    "### 1. Why is this method appropriate?\n",
    "This method is appropriate because the variables of interest—subscribe, gender_simple, and experience—are categorical. Using bar charts allows for clear visual comparisons between groups and helps identify patterns in player behavior without requiring advanced statistical modeling. It is especially suitable for exploratory analysis.\n",
    "### 2.Which assumptions are required, if any, to apply the method selected?\n",
    "Bar charts used in exploratory data analysis do not require strong statistical assumptions such as normality or linearity. The only assumption is that the data are correctly grouped and categorized, and that each observation is independent.\n",
    "### 3.What are the potential limitations or weaknesses of the method selected?\n",
    "One limitation is that this method is descriptive only. It shows trends but does not provide statistical evidence or prediction. Also, differences in subscription rates may be influenced by other variables (such as age or playtime), which are not accounted for in this visual analysis. The sample size for certain groups, like “Other” gender or “Pro” players, may also be too small to generalize.\n",
    "### 4.How did you compare and select the model?\n",
    "No statistical model was applied in this analysis. The focus was on visual exploration through bar plots rather than prediction or classification, so model selection and comparison were not applicable.\n",
    "### 5.How are you going to process the data to apply the model? For example: Are you splitting the data? How? How many splits? What proportions will you use for the splits? At what stage will you split? Will there be a validation set? Will you use cross validation?\n",
    "Although no predictive model was applied, the dataset was pre-processed to support effective visualization. Specifically, the data were grouped and summarized by gender_simple and experience using group_by() and summarize() functions. This helped generate count-based tables that clearly show the number of subscribed and non-subscribed players in each category. These pre-aggregated tables made it easier to directly construct bar plots for visual analysis. No data splitting or cross-validation was performed, as no modeling was involved."
   ]
  },
  {
   "cell_type": "markdown",
   "id": "39248b87-cafe-4230-b66b-97dea235bdae",
   "metadata": {},
   "source": [
    "# Discussion"
   ]
  },
  {
   "cell_type": "markdown",
   "id": "59ddfb0e-a488-4aec-a163-3900be1c9b1a",
   "metadata": {},
   "source": [
    "This analysis found that both gender and experience level are related to a player’s likelihood of subscribing to a game-related newsletter. In particular, beginner and regular players showed stronger subscription tendencies, while pro and veteran players were more balanced. Although female players appeared slightly more likely to subscribe than male players, the difference was small based on visual inspection. Players identifying as other genders also showed a tendency to subscribe, but the small sample size makes this harder to interpret.\n",
    "\n",
    "These results were somewhat in line with expectations. It is reasonable to expect that newer or more casually engaged players might be more receptive to outreach like newsletters, while more experienced players may be less influenced. The subtle gender differences were expected but not especially pronounced.\n",
    "\n",
    "The findings suggest that targeting users based on experience level may be more effective for increasing newsletter engagement. This could be useful for the game research team when deciding how to focus communication strategies or future recruitment efforts.\n",
    "\n",
    "Future questions could include:1：Are there interaction effects between gender and experience? 2：Could a predictive model (e.g., logistic regression) help confirm these relationships? These directions could extend the current findings and lead to deeper understanding."
   ]
  },
  {
   "cell_type": "code",
   "execution_count": null,
   "id": "bd4eeecf-94a0-4696-a04a-c8b05a11cb3a",
   "metadata": {},
   "outputs": [],
   "source": []
  },
  {
   "cell_type": "code",
   "execution_count": null,
   "id": "4fe9d527-7f53-449e-8e38-19ea34dc4316",
   "metadata": {},
   "outputs": [],
   "source": []
  }
 ],
 "metadata": {
  "kernelspec": {
   "display_name": "R",
   "language": "R",
   "name": "ir"
  },
  "language_info": {
   "codemirror_mode": "r",
   "file_extension": ".r",
   "mimetype": "text/x-r-source",
   "name": "R",
   "pygments_lexer": "r",
   "version": "4.3.3"
  }
 },
 "nbformat": 4,
 "nbformat_minor": 5
}
