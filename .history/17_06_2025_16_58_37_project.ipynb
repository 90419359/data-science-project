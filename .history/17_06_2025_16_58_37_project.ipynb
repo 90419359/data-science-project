{
 "cells": [
  {
   "cell_type": "code",
   "execution_count": null,
   "id": "680bd96f-9357-4d8c-af4f-e67eb5513f2e",
   "metadata": {},
   "outputs": [],
   "source": []
  },
  {
   "cell_type": "code",
   "execution_count": null,
   "id": "20fdf3d0-a3e4-4c90-8f08-6715107dc3b0",
   "metadata": {},
   "outputs": [],
   "source": []
  }
 ],
 "metadata": {
  "kernelspec": {
   "display_name": "R",
   "language": "R",
   "name": "ir"
  },
  "language_info": {
   "codemirror_mode": "r",
   "file_extension": ".r",
   "mimetype": "text/x-r-source",
   "name": "R",
   "pygments_lexer": "r",
   "version": "4.3.3"
  }
 },
 "nbformat": 4,
 "nbformat_minor": 5
}
