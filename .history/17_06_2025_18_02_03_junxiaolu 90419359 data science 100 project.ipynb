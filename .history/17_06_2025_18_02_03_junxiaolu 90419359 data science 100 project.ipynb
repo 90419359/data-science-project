{
 "cells": [
  {
   "cell_type": "markdown",
   "id": "4937ae9a-8532-404e-9ac2-6ee9b49b578c",
   "metadata": {},
   "source": [
    "# Data Science 100 Project"
   ]
  },
  {
   "cell_type": "markdown",
   "id": "8a777152-5ad6-401c-9b04-53c1218076c5",
   "metadata": {},
   "source": [
    "## introduction:\n",
    "### Background: \n",
    "Video games are a popular way for people to play and connect with others. Game makers and researchers often use newsletters to share updates, events, or news with players. But not every player signs up for these newsletters. If we can find out which players are more likely to subscribe, we can better understand what kinds of players are more interested and involved.\n",
    "\n",
    "In this project, we look at real data from a Minecraft research server run by a UBC team. The data includes player information and how they behave in the game. We want to find out which player features and behaviors are most useful in predicting whether someone will subscribe to the newsletter. This can help game teams and researchers plan better ways to reach the right players.\n",
    "### link to github:\n",
    "https://github.com/90419359/data-science-project\n",
    "### Questin 1 (the selection of the project):\n",
    "What player characteristics and behaviours are most predictive of subscribing to a game-related newsletter, and how do these features differ between various player types?\n",
    "### Data Description:\n",
    "1. players.csv\n",
    "\n",
    "Each row in this dataset represents an individual player. The columns include:\n",
    "\texperience: Self-reported gaming experience, categorized as Beginner, Amateur, Regular, Veteran, or Pro.\n",
    "\tsubscribe: Indicating whether the player subscribed to the server’s content or notifications.\n",
    "\thashedEmail: A pseudonymized identifier for each player.\n",
    "\tplayed_hours: Total number of hours the player has played on the server.\n",
    "\tname: The first name of the player.\n",
    "\tgender: Gender identity (Male, Female, Non-binary).\n",
    "\tage: The player’s self-reported age (integer).\n",
    "\n",
    "2. sessions.csv\n",
    "\n",
    "Each row represents one gameplay session and includes:\n",
    "\t•\thashedEmail: Used to match the session with a player from players.csv.\n",
    "\t•\tstart_time: The human-readable start time of the session.\n",
    "\t•\tend_time: The human-readable end time of the session.\n",
    "\t•\toriginal_start_time: Start time in Unix timestamp format.\n",
    "\t•\toriginal_end_time: End time in Unix timestamp format.\n",
    "\n",
    "These fields allow for the analysis of session length, activity patterns, and player engagement over time."
   ]
  },
  {
   "cell_type": "markdown",
   "id": "eeffb0c8-f255-4550-9f54-ddd9ef0996b1",
   "metadata": {},
   "source": []
  }
 ],
 "metadata": {
  "kernelspec": {
   "display_name": "R",
   "language": "R",
   "name": "ir"
  },
  "language_info": {
   "codemirror_mode": "r",
   "file_extension": ".r",
   "mimetype": "text/x-r-source",
   "name": "R",
   "pygments_lexer": "r",
   "version": "4.3.3"
  }
 },
 "nbformat": 4,
 "nbformat_minor": 5
}
